{
 "cells": [
  {
   "cell_type": "markdown",
   "metadata": {},
   "source": [
    "## 断面形状の設定"
   ]
  },
  {
   "cell_type": "code",
   "execution_count": 3,
   "metadata": {},
   "outputs": [
    {
     "data": {
      "text/plain": [
       "<matplotlib.axes._subplots.AxesSubplot at 0x1d4c0c0be80>"
      ]
     },
     "execution_count": 3,
     "metadata": {},
     "output_type": "execute_result"
    },
    {
     "data": {
      "image/png": "[encoded data removed]",
      "text/plain": [
       "<Figure size 432x288 with 1 Axes>"
      ]
     },
     "metadata": {
      "needs_background": "light"
     },
     "output_type": "display_data"
    },
    {
     "data": {
      "image/png": "[encoded data removed]",
      "text/plain": [
       "<Figure size 432x288 with 1 Axes>"
      ]
     },
     "metadata": {
      "needs_background": "light"
     },
     "output_type": "display_data"
    }
   ],
   "source": [
    "import pandas as pd\n",
    "df1 = pd.DataFrame([[0.0, -0.16, -1.61],\n",
    "                     [0.0, -1.86, -1.26],\n",
    "                     [0.0, -1.67, 0.77],\n",
    "                     [0.0, -0.14, 1.29],\n",
    "                     [0.0, 1.08, 1.58],\n",
    "                     [0.0, -0.16, -1.61]],columns=[\"x\",\"y\",\"z\"])\n",
    "\n",
    "df2 = pd.DataFrame([[1.0, -0.76, -1.38],\n",
    "                     [1.0, -1.77, -0.12],\n",
    "                     [1.0, -1.1, 1.02],\n",
    "                     [1.0, 0.14, 1.9],\n",
    "                     [1.0, 0.9, 1.87],\n",
    "                     [1.0, 1.31, 2.22],\n",
    "                     [1.0, 0.99, -0.54],\n",
    "                     [1.0, -0.17, -0.84],\n",
    "                     [1.0, -0.76, -1.38]],columns=[\"x\",\"y\",\"z\"])\n",
    "\n",
    "lim=(-3,3)\n",
    "df1.plot(x=\"y\",y=\"z\",xlim=lim,ylim=lim,linestyle='-',marker='.',title=\"section1\")\n",
    "df2.plot(x=\"y\",y=\"z\",xlim=lim,ylim=lim,linestyle='-',marker='.',title=\"section2\")"
   ]
  },
  {
   "cell_type": "markdown",
   "metadata": {},
   "source": [
    "## Blenderでロフト形状を作成"
   ]
  },
  {
   "cell_type": "code",
   "execution_count": 5,
   "metadata": {},
   "outputs": [
    {
     "data": {
      "text/plain": [
       "{'FINISHED'}"
      ]
     },
     "execution_count": 5,
     "metadata": {},
     "output_type": "execute_result"
    }
   ],
   "source": [
    "import bpy\n",
    "#立ち上げ時に存在するオブジェクト（立方体）を削除\n",
    "bpy.ops.object.select_all(action=\"SELECT\")\n",
    "bpy.ops.object.delete(use_global=True)\n",
    "\n",
    "#前処理\n",
    "n1,n2 = len(df1),len(df2)#座標点の数を取得\n",
    "verts = pd.concat([df1,df2]).values.tolist()#blenderで認識できるように座標点をリスト化する\n",
    "faces = [[i for i in range(n1)], [i for i in range(n1,n1+n2)]]#各々の面を定義するリストを作成\n",
    "\n",
    "#Loftの作成\n",
    "mesh = bpy.data.meshes.new(name=\"test\")\n",
    "mesh.from_pydata(verts,[],faces)#点と面を作成\n",
    "mesh.update\n",
    "obj = bpy.data.objects.new(name=\"test\",object_data=mesh)\n",
    "scene =bpy.context.scene\n",
    "bpy.context.scene.objects.link(obj)\n",
    "bpy.context.scene.objects.active = obj\n",
    "bpy.ops.object.mode_set(mode = \"EDIT\")\n",
    "bpy.ops.mesh.bridge_edge_loops()#辺ループのブリッジ->ここでLoft形状が作成される\n",
    "bpy.ops.object.mode_set(mode = \"OBJECT\")\n",
    "\n",
    "#output\n",
    "bpy.ops.wm.save_mainfile(filepath=\"test.blend\")#blenderfileを出力\n",
    "bpy.ops.export_mesh.stl(filepath=\"test.stl\")#STLを出力"
   ]
  },
  {
   "cell_type": "code",
   "execution_count": 4,
   "metadata": {},
   "outputs": [],
   "source": [
    "! explorer ."
   ]
  },
  {
   "cell_type": "markdown",
   "metadata": {},
   "source": [
    "## FreeCADでCADジオメトリにする"
   ]
  },
  {
   "cell_type": "code",
   "execution_count": 6,
   "metadata": {},
   "outputs": [],
   "source": [
    "import FreeCAD as APP\n",
    "import Mesh\n",
    "import Part\n",
    "\n",
    "freecad = APP.newDocument(\"model\")\n",
    "\n",
    "meshobj = freecad.addObject(\"Mesh::Feature\",\"MyMesh\")\n",
    "meshobj.Mesh = Mesh.Mesh(\"test.stl\")\n",
    "\n",
    "shape = Part.Shape()\n",
    "shape.makeShapeFromMesh(meshobj.Mesh.Topology,0.100000)\n",
    "freecad.addObject(\"Part::Feature\",\"test\").Shape=Part.Solid(shape)\n",
    "freecad.removeObject(meshobj.Name)\n",
    "freecad.recompute()\n",
    "freecad.saveAs(\"test.FCStd\")\n",
    "Part.export([freecad.Objects[0]],\"test.iges\")"
   ]
  }
 ],
 "metadata": {
  "kernelspec": {
   "display_name": "Python 3",
   "language": "python",
   "name": "python3"
  },
  "language_info": {
   "codemirror_mode": {
    "name": "ipython",
    "version": 3
   },
   "file_extension": ".py",
   "mimetype": "text/x-python",
   "name": "python",
   "nbconvert_exporter": "python",
   "pygments_lexer": "ipython3",
   "version": "3.7.3"
  },
  "nbTranslate": {
   "displayLangs": [
    "en"
   ],
   "hotkey": "alt-t",
   "langInMainMenu": true,
   "sourceLang": "en",
   "targetLang": "fr",
   "useGoogleTranslate": true
  },
  "toc": {
   "base_numbering": 1,
   "nav_menu": {},
   "number_sections": true,
   "sideBar": true,
   "skip_h1_title": false,
   "title_cell": "Table of Contents",
   "title_sidebar": "Contents",
   "toc_cell": false,
   "toc_position": {},
   "toc_section_display": true,
   "toc_window_display": false
  },
  "varInspector": {
   "cols": {
    "lenName": 16,
    "lenType": 16,
    "lenVar": 40
   },
   "kernels_config": {
    "python": {
     "delete_cmd_postfix": "",
     "delete_cmd_prefix": "del ",
     "library": "var_list.py",
     "varRefreshCmd": "print(var_dic_list())"
    },
    "r": {
     "delete_cmd_postfix": ") ",
     "delete_cmd_prefix": "rm(",
     "library": "var_list.r",
     "varRefreshCmd": "cat(var_dic_list()) "
    }
   },
   "types_to_exclude": [
    "module",
    "function",
    "builtin_function_or_method",
    "instance",
    "_Feature"
   ],
   "window_display": false
  }
 },
 "nbformat": 4,
 "nbformat_minor": 2
}
